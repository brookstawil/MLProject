{
 "cells": [
  {
   "cell_type": "markdown",
   "metadata": {},
   "source": [
    "### Dataset 2 - Wine\n",
    "\n",
    "This dataset is related to red and white vinho verde wine samples, from the north of Portugal. \n",
    "https://archive.ics.uci.edu/ml/datasets/Wine+Quality\n",
    "\n",
    "#### Problem \n",
    "The goal is to model wine quality based on physicochemical tests. Based on the input data from 11 features of chemical properties, an output quality score from 0 to 10 is assigned to each instance. We would formulate this in terms of a regression problem where we attempt to arrive at a quality rating based on input chemical data.\n",
    "\n",
    "#### Extending the problem\n",
    "If we could somehow get measures of wines from outside of this dataset would could come up with an interesting and useful regression based algorithm."
   ]
  },
  {
   "cell_type": "code",
   "execution_count": null,
   "metadata": {},
   "outputs": [],
   "source": []
  }
 ],
 "metadata": {
  "kernelspec": {
   "display_name": "Python 3",
   "language": "python",
   "name": "python3"
  },
  "language_info": {
   "codemirror_mode": {
    "name": "ipython",
    "version": 3
   },
   "file_extension": ".py",
   "mimetype": "text/x-python",
   "name": "python",
   "nbconvert_exporter": "python",
   "pygments_lexer": "ipython3",
   "version": "3.7.1"
  }
 },
 "nbformat": 4,
 "nbformat_minor": 2
}
