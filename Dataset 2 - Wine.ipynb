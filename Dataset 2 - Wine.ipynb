{
 "cells": [
  {
   "cell_type": "markdown",
   "metadata": {},
   "source": [
    "### Dataset 2 - Wine\n",
    "\n",
    "This dataset is related to red and white vinho verde wine samples, from the north of Portugal. \n",
    "https://archive.ics.uci.edu/ml/datasets/Wine+Quality\n",
    "\n",
    "#### Problem \n",
    "The goal is to model wine quality based on physicochemical tests. Based on the input data from 11 features of chemical properties, an output quality score from 0 to 10 is assigned to each instance. We would formulate this in terms of a regression problem where we attempt to arrive at a quality rating based on input chemical data.\n",
    "\n",
    "#### Extending the problem\n",
    "If we could somehow get measures of wines from outside of this dataset would could come up with an interesting and useful regression based algorithm."
   ]
  },
  {
   "cell_type": "markdown",
   "metadata": {},
   "source": [
    "### Dataset Description"
   ]
  },
  {
   "cell_type": "markdown",
   "metadata": {},
   "source": [
    "### Loading the Dataset\n",
    "This dataset is stored between two .csv files for red and white wines. We first need to extract this data into a workable format."
   ]
  },
  {
   "cell_type": "code",
   "execution_count": 15,
   "metadata": {},
   "outputs": [],
   "source": [
    "import numpy as np\n",
    "\n",
    "red_filedata = np.genfromtxt('./data/Wine/winequality-red.csv', delimiter=';', skip_header=1)\n",
    "white_filedata = np.genfromtxt('./data/Wine/winequality-white.csv', delimiter=';', skip_header=1)\n",
    "\n",
    "# Transpose so that features are along the rows and data points are along the columns\n",
    "red_filedata = red_filedata.transpose()\n",
    "white_filedata = white_filedata.transpose()\n",
    "\n",
    "# Extract the targets and separate into vector\n",
    "red_targets = red_filedata[11:,:]\n",
    "red_data = red_filedata[:11,:]\n",
    "white_targets = white_filedata[11:,:]\n",
    "white_data = white_filedata[:11,:]\n",
    "\n",
    "# Dataset is now split and ready for analysis"
   ]
  },
  {
   "cell_type": "markdown",
   "metadata": {},
   "source": [
    "### Analysing our Cleaned Data\n",
    "\n",
    "This dataset required very minimal adjustment, thanks to the numpy. For this dataset, our goal is to fit a regression models off of the various chemical features described above, and arrive at some overall quality score for each wine. The targets are given by the data set, and we can attempt to arrive at these using our regression models.\n",
    "These are the 3 methods that will be used, along with the group member responsible for that method:\n",
    "- Regression Method 1 - Brooks Tawil\n",
    "- Regression Method 2 - Jack Chui\n",
    "- Regression Method 3 - Gavin Mckim"
   ]
  }
 ],
 "metadata": {
  "kernelspec": {
   "display_name": "Python 3",
   "language": "python",
   "name": "python3"
  },
  "language_info": {
   "codemirror_mode": {
    "name": "ipython",
    "version": 3
   },
   "file_extension": ".py",
   "mimetype": "text/x-python",
   "name": "python",
   "nbconvert_exporter": "python",
   "pygments_lexer": "ipython3",
   "version": "3.7.1"
  }
 },
 "nbformat": 4,
 "nbformat_minor": 2
}
