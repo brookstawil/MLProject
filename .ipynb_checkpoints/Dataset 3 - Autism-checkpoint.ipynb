{
 "cells": [
  {
   "cell_type": "markdown",
   "metadata": {},
   "source": [
    "## Dataset 3 - Autism\n",
    "\n",
    "This dataset provides 20 attributes to help determine if an adult could be on the autistic spectrum or have ASD. The data provided is based upon autism screening of adults in contrast to most other datasets based on behavior traits. In the dataset, 10 behavioral and 10 individual characteristics are provided.\n",
    "https://archive.ics.uci.edu/ml/datasets/Autism+Screening+Adult\n",
    "\n",
    "#### Problem\n",
    "Our goal is to create a classifier, that can diagnose autism based on the answers to certain questions and physical characteristics. This is a classification problem and very much mirrors our hypothetical situations of diagnosing cancer that we discuss in class. Except our features are more based around psychological evaluation and not physical traits and attributes of a physical ailment.\n",
    "\n",
    "#### Extending the problem\n",
    "Out of all of the datasets, this one has the most social impact, and the creation of such an algorithm is most likely already the subject of study in various academic realms.\n"
   ]
  },
  {
   "cell_type": "markdown",
   "metadata": {},
   "source": [
    "### Loading the Dataset\n",
    "The dataset is laid out in a .arff file and needs to be loaded properly so that we can use it. Fortunately, Scipy has a function to hanle this.\n",
    "\n",
    "Some features, like the answers to test questions, are binary. While others like age are intgers, and others are strings. \n",
    "\n",
    "Some features are translated into binary features. Gender is taken as a binary feature, with 'False' being taken as male and 'True' being taken female."
   ]
  },
  {
   "cell_type": "code",
   "execution_count": 15,
   "metadata": {},
   "outputs": [],
   "source": [
    "from scipy.io import arff\n",
    "import numpy as np\n",
    "\n",
    "file = './Data/Autism/Autism-Adult-Data.arff'\n",
    "filedata, metadata = arff.loadarff(file)\n",
    "\n",
    "'''\n",
    "print (metadata)\n",
    "print (filedata[0])\n",
    "'''\n",
    "\n",
    "# Data is not properly typed and needs to be converted\n",
    "data = [[None for _ in range(len(filedata[0]))] for _ in range(len(filedata))]\n",
    "for i in range(len(filedata)):\n",
    "    for j in range(len(filedata[i])):\n",
    "        # Binary features, Answer Scores\n",
    "        if (j < 10):\n",
    "            if (filedata[i][j] == b'1'):\n",
    "                data[i][j] = True\n",
    "            else:\n",
    "                data[i][j] = False\n",
    "        # Integer Features, Age feature, Screen Score\n",
    "        elif (j == 10 or j == 17):\n",
    "            data[i][j] = filedata[i][j]\n",
    "        # Gender Feature to binary\n",
    "        elif (j == 11):\n",
    "            if (filedata[i][j] == 'm'):\n",
    "                data[i][j] = False\n",
    "            else:\n",
    "                data[i][j] = True\n",
    "        # String features, Ethnicity, Country of Origin (enclossed in '' within the string), 18 or older, relation\n",
    "        elif (j == 12 or j == 15 or j == 18 or j == 19):\n",
    "            data[i][j] = filedata[i][j].decode(\"utf-8\")\n",
    "        # Jaundice, Family Member with a PDD\n",
    "        elif (j == 13 or j == 14 or j == 16):\n",
    "            if (filedata[i][j] == b'yes'):\n",
    "                data[i][j] = True\n",
    "            else:\n",
    "                data[i][j] = False\n",
    "        # Final classification\n",
    "        elif (j == 20):\n",
    "            if (filedata[i][j] == b'YES'):\n",
    "                data[i][j] = True\n",
    "            else:\n",
    "                data[i][j] = False\n",
    "\n",
    "    # Make the row into a numpy array\n",
    "    data[i] = np.array(data[i])\n",
    "\n",
    "# Make the whole dataset into a numpy array\n",
    "data = np.array(data)\n",
    "\n",
    "# Transpose so that features are along the rows and data points are along the columns\n",
    "data = data.transpose()\n",
    "\n",
    "# Extract the label from the data\n",
    "labels = data[20:,:]\n",
    "data = data[:20,:]\n",
    "\n",
    "# data is now the features matrix column wise and the labels are separated into a vector"
   ]
  },
  {
   "cell_type": "markdown",
   "metadata": {},
   "source": [
    "### Cleaning the Dataset\n",
    "With the data properly loaded, we need to look over our features and potentially clean or adjust the data.\n",
    "\n",
    "In our dataset, there is an \"18 years or older\" feature, which is the same for every datapoint, a hold over from what can be assumed to be related to a legal obligation of an adult's consent to colllect the data. Thus we can cut that feature out entirely from the beginning.\n",
    "\n",
    "Additionally, we can elect to exclude other features which we are not interested in including in our analysis such as .\n",
    "\n",
    "We can cut these out of our data:"
   ]
  },
  {
   "cell_type": "code",
   "execution_count": null,
   "metadata": {},
   "outputs": [],
   "source": []
  }
 ],
 "metadata": {
  "kernelspec": {
   "display_name": "Python 3",
   "language": "python",
   "name": "python3"
  },
  "language_info": {
   "codemirror_mode": {
    "name": "ipython",
    "version": 3
   },
   "file_extension": ".py",
   "mimetype": "text/x-python",
   "name": "python",
   "nbconvert_exporter": "python",
   "pygments_lexer": "ipython3",
   "version": "3.7.1"
  }
 },
 "nbformat": 4,
 "nbformat_minor": 2
}
