{
 "cells": [
  {
   "cell_type": "markdown",
   "metadata": {},
   "source": [
    "### Dataset 1 - Country Flags\n",
    "The dataset below provides different information of a country in order to predict potentially what the country’s majority religion is. This falls more in line with a clustering problem, whereby flags are clustered into groups.\n",
    "https://archive.ics.uci.edu/ml/datasets/Flags?fbclid=IwAR3cI_9sS9XxKBJ-RPXEIAPBOS3QDqkS7qYxicM6F_TiJB--5P8r1Tt6Lxk\n",
    "\n",
    "#### Problem\n",
    "For this problem we will find clusters of flags based on the data attributes, find the common characteristics, and output the connections that we find between the flags, in this case, the majority religion of the country\n",
    "\n",
    "#### Extending the problem\n",
    "It would be interesting to see what our algorithm would cluster a new-made up flag that we create based on our own human biases."
   ]
  },
  {
   "cell_type": "markdown",
   "metadata": {},
   "source": [
    "### Loading the Dataset\n",
    "This dataset is stored on a single csv file across all of the features. Numpy can easily load in these values int oa matrix so that we can use it in our analysis."
   ]
  },
  {
   "cell_type": "code",
   "execution_count": 100,
   "metadata": {},
   "outputs": [
    {
     "name": "stdout",
     "output_type": "stream",
     "text": [
      "['Muslim' 'Marxist' 'Muslim' 'Other Christian' 'Catholic' 'Ethnic'\n",
      " 'Other Christian' 'Other Christian' 'Catholic' 'Catholic'\n",
      " 'Other Christian' 'Catholic' 'Other Christian' 'Muslim' 'Muslim'\n",
      " 'Other Christian' 'Catholic' 'Other Christian' 'Ethnic' 'Other Christian'\n",
      " 'Buddhist' 'Catholic' 'Ethnic' 'Catholic' 'Other Christian' 'Muslim'\n",
      " 'Marxist' 'Ethnic' 'Buddhist' 'Ethnic' 'Other Christian'\n",
      " 'Other Christian' 'Catholic' 'Other Christian' 'Ethnic' 'Ethnic'\n",
      " 'Catholic' 'Marxist' 'Catholic' 'Muslim' 'Ethnic' 'Other Christian'\n",
      " 'Catholic' 'Marxist' 'Other Christian' 'Marxist' 'Other Christian'\n",
      " 'Muslim' 'Other Christian' 'Catholic' 'Catholic' 'Muslim' 'Catholic'\n",
      " 'Ethnic' 'Other Christian' 'Other Christian' 'Other Christian'\n",
      " 'Other Christian' 'Other Christian' 'Catholic' 'Catholic' 'Catholic'\n",
      " 'Ethnic' 'Ethnic' 'Marxist' 'Other Christian' 'Ethnic' 'Other Christian'\n",
      " 'Other Christian' 'Other Christian' 'Other Christian' 'Other Christian'\n",
      " 'Catholic' 'Muslim' 'Ethnic' 'Hindu' 'Catholic' 'Catholic' 'Buddhist'\n",
      " 'Marxist' 'Other Christian' 'Hindu' 'Muslim' 'Muslim' 'Muslim' 'Catholic'\n",
      " 'Others' 'Catholic' 'Ethnic' 'Other Christian' 'Others' 'Muslim'\n",
      " 'Buddhist' 'Ethnic' 'Other Christian' 'Muslim' 'Marxist' 'Muslim'\n",
      " 'Ethnic' 'Ethnic' 'Muslim' 'Catholic' 'Catholic' 'Other Christian'\n",
      " 'Ethnic' 'Muslim' 'Muslim' 'Muslim' 'Catholic' 'Other Christian' 'Muslim'\n",
      " 'Hindu' 'Catholic' 'Other Christian' 'Catholic' 'Marxist'\n",
      " 'Other Christian' 'Muslim' 'Ethnic' 'Other Christian' 'Hindu'\n",
      " 'Other Christian' 'Other Christian' 'Other Christian' 'Catholic' 'Muslim'\n",
      " 'Muslim' 'Other Christian' 'Marxist' 'Muslim' 'Other Christian' 'Muslim'\n",
      " 'Muslim' 'Catholic' 'Ethnic' 'Catholic' 'Catholic' 'Catholic' 'Marxist'\n",
      " 'Catholic' 'Catholic' 'Muslim' 'Marxist' 'Ethnic' 'Catholic' 'Catholic'\n",
      " 'Muslim' 'Muslim' 'Other Christian' 'Ethnic' 'Buddhist' 'Other Christian'\n",
      " 'Muslim' 'Other Christian' 'Others' 'Muslim' 'Catholic' 'Buddhist'\n",
      " 'Other Christian' 'Other Christian' 'Other Christian' 'Other Christian'\n",
      " 'Muslim' 'Other Christian' 'Other Christian' 'Other Christian'\n",
      " 'Other Christian' 'Muslim' 'Buddhist' 'Ethnic' 'Buddhist' 'Others'\n",
      " 'Other Christian' 'Other Christian' 'Muslim' 'Muslim' 'Other Christian'\n",
      " 'Other Christian' 'Muslim' 'Ethnic' 'Other Christian' 'Catholic'\n",
      " 'Other Christian' 'Other Christian' 'Marxist' 'Other Christian'\n",
      " 'Catholic' 'Catholic' 'Marxist' 'Other Christian' 'Marxist' 'Ethnic'\n",
      " 'Ethnic' 'Ethnic']\n"
     ]
    }
   ],
   "source": [
    "import numpy as np\n",
    "\n",
    "filedata = np.genfromtxt('./data/CountryFlags/flag.data', dtype=None, delimiter=',', encoding='utf-8')\n",
    "\n",
    "data = [[None for _ in range(len(filedata[0]))] for _ in range(len(filedata))]\n",
    "\n",
    "# Data is stored as mostly integers, but these correspond to a string in the data description, stored in these lists \n",
    "landmass = [None, 'N.America', 'S.America', 'Europe', 'Africa', 'Asia', 'Oceania']\n",
    "quadrant = [None, 'NE', 'SE', 'SW', 'NW']\n",
    "languages = [None, 'English', 'Spanish', 'French', 'German', 'Slavic', 'Other Indo-European', 'Chinese', 'Arabic', 'Japanese/Turkish/Finnish/Magyar', 'Others']\n",
    "religions = ['Catholic', 'Other Christian', 'Muslim', 'Buddhist', 'Hindu', 'Ethnic', 'Marxist', 'Others']\n",
    "for i in range(len(data)):\n",
    "    for j in range(len(data[i])):\n",
    "        # Country Name\n",
    "        if (j == 0):\n",
    "            data[i][j] = str(filedata[i][j])\n",
    "        # Landmass\n",
    "        elif (j == 1):\n",
    "            data[i][j] = landmass[filedata[i][j]]\n",
    "        elif (j  == 2):\n",
    "            data[i][j] = quadrant[filedata[i][j]]\n",
    "        elif (j  == 5):\n",
    "            data[i][j] = languages[filedata[i][j]]\n",
    "        elif (j == 6):\n",
    "            data[i][j] = religions[filedata[i][j]]\n",
    "        else:\n",
    "            data[i][j] = filedata[i][j]\n",
    "        # Make the row into a numpy array\n",
    "        data[i] = np.array(data[i])\n",
    "\n",
    "# Transpose so that features are along the rows and data points are along the columns\n",
    "data = np.array(data).transpose()\n",
    "\n"
   ]
  },
  {
   "cell_type": "markdown",
   "metadata": {},
   "source": [
    "### Cleaning the Dataset\n",
    "The point of this problem is to only use the data and features that we can get from a given countries flag. This dataset includes features such as population, density etc. that are not related to the flag, and should be removed.\n",
    "One of these, religion, will be our label that we are aiming to predict based off of the flag. Thus we will have to extract the religion feature as a label, and eliminate the non-flag related features."
   ]
  },
  {
   "cell_type": "code",
   "execution_count": 53,
   "metadata": {},
   "outputs": [],
   "source": [
    "# Extract the religions as the labels, row 6\n",
    "\n",
    "labels = "
   ]
  },
  {
   "cell_type": "code",
   "execution_count": null,
   "metadata": {},
   "outputs": [],
   "source": []
  }
 ],
 "metadata": {
  "kernelspec": {
   "display_name": "Python 3",
   "language": "python",
   "name": "python3"
  },
  "language_info": {
   "codemirror_mode": {
    "name": "ipython",
    "version": 3
   },
   "file_extension": ".py",
   "mimetype": "text/x-python",
   "name": "python",
   "nbconvert_exporter": "python",
   "pygments_lexer": "ipython3",
   "version": "3.7.1"
  }
 },
 "nbformat": 4,
 "nbformat_minor": 2
}
